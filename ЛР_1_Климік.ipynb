{
  "nbformat": 4,
  "nbformat_minor": 0,
  "metadata": {
    "colab": {
      "provenance": [],
      "authorship_tag": "ABX9TyNDa4KpbZLMkRJEOVN6psls",
      "include_colab_link": true
    },
    "kernelspec": {
      "name": "python3",
      "display_name": "Python 3"
    },
    "language_info": {
      "name": "python"
    }
  },
  "cells": [
    {
      "cell_type": "markdown",
      "metadata": {
        "id": "view-in-github",
        "colab_type": "text"
      },
      "source": [
        "<a href=\"https://colab.research.google.com/github/Yaroslav1121/ICS-485654/blob/main/%D0%9B%D0%A0_1_%D0%9A%D0%BB%D0%B8%D0%BC%D1%96%D0%BA.ipynb\" target=\"_parent\"><img src=\"https://colab.research.google.com/assets/colab-badge.svg\" alt=\"Open In Colab\"/></a>"
      ]
    },
    {
      "cell_type": "markdown",
      "source": [
        "#Лабораторна робота 1\n",
        "Виконати дії з матрицями\n",
        "Варіант 12"
      ],
      "metadata": {
        "id": "0s0ZBskbf2-F"
      }
    },
    {
      "cell_type": "code",
      "source": [],
      "metadata": {
        "id": "PeGge-Zqf760"
      },
      "execution_count": null,
      "outputs": []
    }
  ]
}